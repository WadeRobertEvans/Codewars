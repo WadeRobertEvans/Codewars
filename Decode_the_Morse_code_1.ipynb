{
 "cells": [
  {
   "cell_type": "markdown",
   "metadata": {},
   "source": [
    "## Morse code dictionary"
   ]
  },
  {
   "cell_type": "code",
   "execution_count": 1,
   "metadata": {},
   "outputs": [],
   "source": [
    "# Dictionary representing the morse code chart (morse to English)\n",
    "\n",
    "morse_code_dict = {\n",
    "    '....' : 'H', '.-' : 'A', '-...' : 'B',\n",
    "    '-.-.' : 'C', '-..' : 'D', '.' : 'E',\n",
    "    '..-.' : 'F', '--.' : 'G', '..' : 'I',\n",
    "    '.---' : 'J', '-.-' : 'K', '.-..' : 'L',\n",
    "    '--' : 'M', '-.' : 'N', '---' : 'O',\n",
    "    '.--.' : 'P', '--.-' : 'Q', '.-.' : 'R',\n",
    "    '...' : 'S', '-' : 'T', '..-' : 'U',\n",
    "    '...-' : 'V', '.--' : 'W', '-..-' : 'X',\n",
    "    '-.--' : 'Y', '--..' : 'Z', '.-.-.-' : '.',\n",
    "    '..--..' : '?', '--..--' : ',', '/' : ' ',\n",
    "    '...---...' : 'SOS', '-.-.--' : '!'\n",
    "}"
   ]
  },
  {
   "cell_type": "code",
   "execution_count": 2,
   "metadata": {
    "scrolled": true
   },
   "outputs": [
    {
     "data": {
      "text/plain": [
       "'H'"
      ]
     },
     "execution_count": 2,
     "metadata": {},
     "output_type": "execute_result"
    }
   ],
   "source": [
    "morse_code_dict[\"....\"]"
   ]
  },
  {
   "cell_type": "code",
   "execution_count": 3,
   "metadata": {},
   "outputs": [
    {
     "data": {
      "text/plain": [
       "' '"
      ]
     },
     "execution_count": 3,
     "metadata": {},
     "output_type": "execute_result"
    }
   ],
   "source": [
    "morse_code_dict[\"/\"]"
   ]
  },
  {
   "cell_type": "code",
   "execution_count": 4,
   "metadata": {},
   "outputs": [
    {
     "data": {
      "text/plain": [
       "'!'"
      ]
     },
     "execution_count": 4,
     "metadata": {},
     "output_type": "execute_result"
    }
   ],
   "source": [
    "morse_code_dict['-.-.--']"
   ]
  },
  {
   "cell_type": "markdown",
   "metadata": {},
   "source": [
    "## Test code"
   ]
  },
  {
   "cell_type": "markdown",
   "metadata": {},
   "source": [
    "'.... . -.--   .--- ..- -.. .'  \n",
    "should return \"HEY JUDE\""
   ]
  },
  {
   "cell_type": "markdown",
   "metadata": {},
   "source": [
    "## Method 1"
   ]
  },
  {
   "cell_type": "markdown",
   "metadata": {},
   "source": [
    "**Workings**"
   ]
  },
  {
   "cell_type": "code",
   "execution_count": 5,
   "metadata": {},
   "outputs": [],
   "source": [
    "msg = '.... . -.--   .--- ..- -.. .'"
   ]
  },
  {
   "cell_type": "code",
   "execution_count": 6,
   "metadata": {},
   "outputs": [
    {
     "data": {
      "text/plain": [
       "'.... . -.--   .--- ..- -.. .'"
      ]
     },
     "execution_count": 6,
     "metadata": {},
     "output_type": "execute_result"
    }
   ],
   "source": [
    "# strip() method removes any leading and trailing characters (space is the default character to remove) from a string\n",
    "\n",
    "msg.strip()"
   ]
  },
  {
   "cell_type": "code",
   "execution_count": 7,
   "metadata": {},
   "outputs": [],
   "source": [
    "# to get a list of words (words are separated by 3 spaces)\n",
    "\n",
    "msg_strip_lst = msg.strip().split(\"   \")"
   ]
  },
  {
   "cell_type": "code",
   "execution_count": 8,
   "metadata": {},
   "outputs": [
    {
     "data": {
      "text/plain": [
       "['.... . -.--', '.--- ..- -.. .']"
      ]
     },
     "execution_count": 8,
     "metadata": {},
     "output_type": "execute_result"
    }
   ],
   "source": [
    "msg_strip_lst"
   ]
  },
  {
   "cell_type": "code",
   "execution_count": 9,
   "metadata": {},
   "outputs": [
    {
     "name": "stdout",
     "output_type": "stream",
     "text": [
      "['....', '.', '-.--']\n",
      "['.---', '..-', '-..', '.']\n"
     ]
    }
   ],
   "source": [
    "# to get a list of the characters in each word\n",
    "    # Each list refers to a separate word\n",
    "\n",
    "for char in msg_strip_lst:\n",
    "    print(char.split(\" \"))"
   ]
  },
  {
   "cell_type": "code",
   "execution_count": 10,
   "metadata": {},
   "outputs": [
    {
     "name": "stdout",
     "output_type": "stream",
     "text": [
      "0 ['....', '.', '-.--']\n",
      "1 ['.---', '..-', '-..', '.']\n"
     ]
    }
   ],
   "source": [
    "# to get a list of the characters in each word\n",
    "    # Each list refers to a separate word\n",
    "    # Each list is accompanied by an index (because used enumerate)\n",
    "\n",
    "for count, char in enumerate(msg_strip_lst):\n",
    "    print(count, char.split(\" \"))"
   ]
  },
  {
   "cell_type": "code",
   "execution_count": 11,
   "metadata": {},
   "outputs": [
    {
     "name": "stdout",
     "output_type": "stream",
     "text": [
      "....\n",
      ".\n",
      "-.--\n",
      ".---\n",
      "..-\n",
      "-..\n",
      ".\n"
     ]
    }
   ],
   "source": [
    "for count, char in enumerate(msg_strip_lst):\n",
    "    \n",
    "    for i in char.split(\" \"):\n",
    "        print(i)"
   ]
  },
  {
   "cell_type": "code",
   "execution_count": 12,
   "metadata": {},
   "outputs": [
    {
     "name": "stdout",
     "output_type": "stream",
     "text": [
      "H\n",
      "E\n",
      "Y\n",
      "J\n",
      "U\n",
      "D\n",
      "E\n"
     ]
    }
   ],
   "source": [
    "for count, char in enumerate(msg_strip_lst):\n",
    "    \n",
    "    for i in char.split(\" \"):\n",
    "        print(morse_code_dict[i])"
   ]
  },
  {
   "cell_type": "code",
   "execution_count": 13,
   "metadata": {},
   "outputs": [
    {
     "name": "stdout",
     "output_type": "stream",
     "text": [
      "0 .... . -.--\n",
      "<class 'int'>\n",
      "<class 'str'>\n",
      "\n",
      "\n",
      "1 .--- ..- -.. .\n",
      "<class 'int'>\n",
      "<class 'str'>\n",
      "\n",
      "\n"
     ]
    }
   ],
   "source": [
    "for count, value in enumerate(msg_strip_lst):\n",
    "    print(count, value)\n",
    "    print(type(count))\n",
    "    print(type(value))\n",
    "    print(\"\\n\")"
   ]
  },
  {
   "cell_type": "code",
   "execution_count": 14,
   "metadata": {},
   "outputs": [
    {
     "name": "stdout",
     "output_type": "stream",
     "text": [
      "0 ....\n",
      "1 .-\n",
      "2 -...\n",
      "3 -.-.\n",
      "4 -..\n",
      "5 .\n",
      "6 ..-.\n",
      "7 --.\n",
      "8 ..\n",
      "9 .---\n",
      "10 -.-\n",
      "11 .-..\n",
      "12 --\n",
      "13 -.\n",
      "14 ---\n",
      "15 .--.\n",
      "16 --.-\n",
      "17 .-.\n",
      "18 ...\n",
      "19 -\n",
      "20 ..-\n",
      "21 ...-\n",
      "22 .--\n",
      "23 -..-\n",
      "24 -.--\n",
      "25 --..\n",
      "26 .-.-.-\n",
      "27 ..--..\n",
      "28 --..--\n",
      "29 /\n",
      "30 ...---...\n",
      "31 -.-.--\n"
     ]
    }
   ],
   "source": [
    "for count, key in enumerate(morse_code_dict):\n",
    "    print(count, key)"
   ]
  },
  {
   "cell_type": "code",
   "execution_count": 15,
   "metadata": {},
   "outputs": [],
   "source": [
    "sentence = 'This is a sentence!'"
   ]
  },
  {
   "cell_type": "code",
   "execution_count": 16,
   "metadata": {},
   "outputs": [],
   "source": [
    "lst_sentence = sentence.split(\" \")"
   ]
  },
  {
   "cell_type": "code",
   "execution_count": 17,
   "metadata": {},
   "outputs": [
    {
     "data": {
      "text/plain": [
       "['This', 'is', 'a', 'sentence!']"
      ]
     },
     "execution_count": 17,
     "metadata": {},
     "output_type": "execute_result"
    }
   ],
   "source": [
    "lst_sentence"
   ]
  },
  {
   "cell_type": "code",
   "execution_count": 18,
   "metadata": {},
   "outputs": [],
   "source": [
    "join_sentence = '*'.join(lst_sentence)"
   ]
  },
  {
   "cell_type": "code",
   "execution_count": 19,
   "metadata": {},
   "outputs": [
    {
     "data": {
      "text/plain": [
       "'This*is*a*sentence!'"
      ]
     },
     "execution_count": 19,
     "metadata": {},
     "output_type": "execute_result"
    }
   ],
   "source": [
    "join_sentence"
   ]
  },
  {
   "cell_type": "code",
   "execution_count": null,
   "metadata": {},
   "outputs": [],
   "source": []
  },
  {
   "cell_type": "code",
   "execution_count": 20,
   "metadata": {},
   "outputs": [
    {
     "name": "stdout",
     "output_type": "stream",
     "text": [
      "0 .... . -.--\n",
      "<class 'int'>\n",
      "<class 'str'>\n",
      ".... . -.--\n",
      "1 .--- ..- -.. .\n",
      "<class 'int'>\n",
      "<class 'str'>\n",
      ".--- ..- -.. .\n"
     ]
    }
   ],
   "source": [
    "morse_code_test = ['.... . -.--', '.--- ..- -.. .']\n",
    "\n",
    "for index,count in enumerate(morse_code_test):\n",
    "    print(index,count)\n",
    "    print(type(index))\n",
    "    print(type(count))\n",
    "    print(count[:])"
   ]
  },
  {
   "cell_type": "markdown",
   "metadata": {},
   "source": [
    "**Define as a function**"
   ]
  },
  {
   "cell_type": "code",
   "execution_count": 21,
   "metadata": {},
   "outputs": [],
   "source": [
    "def decodeMorse1(morse_code):\n",
    "    \n",
    "    # strip() ---> remove leading and trailing spaces (remains a **string**)\n",
    "    # split(\"   \") ---> to get a **list** of words (words are separated by 3 spaces)\n",
    "    # morse_code.strip().split(\"   \") # should give ['.... . -.--', '.--- ..- -.. .'] ---> [word1, word2]\n",
    "    \n",
    "    a = ''\n",
    "    \n",
    "    for index,word in enumerate(morse_code.strip().split('   ')):\n",
    "        if index == 0:\n",
    "            a += ''\n",
    "        elif index > 0:\n",
    "            a += ' '\n",
    "        \n",
    "        for letter in word.split(' '):\n",
    "            a += ''.join(morse_code_dict[letter])\n",
    "    \n",
    "    return a"
   ]
  },
  {
   "cell_type": "code",
   "execution_count": 22,
   "metadata": {},
   "outputs": [
    {
     "data": {
      "text/plain": [
       "'HEY JUDE'"
      ]
     },
     "execution_count": 22,
     "metadata": {},
     "output_type": "execute_result"
    }
   ],
   "source": [
    "decodeMorse1('.... . -.--   .--- ..- -.. .')"
   ]
  },
  {
   "cell_type": "markdown",
   "metadata": {},
   "source": [
    "## Method 2"
   ]
  },
  {
   "cell_type": "code",
   "execution_count": 23,
   "metadata": {},
   "outputs": [],
   "source": [
    "def decodeMorse2(msg):\n",
    "    return ' '.join(''.join(morse_code_dict[letter] for letter in word.split(' ')) for word in msg.strip().split('   '))"
   ]
  },
  {
   "cell_type": "code",
   "execution_count": 24,
   "metadata": {},
   "outputs": [
    {
     "data": {
      "text/plain": [
       "'HEY JUDE'"
      ]
     },
     "execution_count": 24,
     "metadata": {},
     "output_type": "execute_result"
    }
   ],
   "source": [
    "decodeMorse2('.... . -.--   .--- ..- -.. .')"
   ]
  }
 ],
 "metadata": {
  "kernelspec": {
   "display_name": "Python 3",
   "language": "python",
   "name": "python3"
  },
  "language_info": {
   "codemirror_mode": {
    "name": "ipython",
    "version": 3
   },
   "file_extension": ".py",
   "mimetype": "text/x-python",
   "name": "python",
   "nbconvert_exporter": "python",
   "pygments_lexer": "ipython3",
   "version": "3.8.5"
  }
 },
 "nbformat": 4,
 "nbformat_minor": 4
}
