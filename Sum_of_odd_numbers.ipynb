{
 "cells": [
  {
   "cell_type": "markdown",
   "metadata": {},
   "source": [
    "## Method 1"
   ]
  },
  {
   "cell_type": "markdown",
   "metadata": {},
   "source": [
    "**Workings**"
   ]
  },
  {
   "cell_type": "markdown",
   "metadata": {},
   "source": [
    "How many numbers in each row:  \n",
    "\n",
    "n0 = 0  \n",
    "n1 = n0 + 1 = 1  \n",
    "n2 = n1 + 1 = 2  \n",
    "n3 = n2 + 1 = 3  \n",
    "..."
   ]
  },
  {
   "cell_type": "markdown",
   "metadata": {},
   "source": [
    "row 0: 0  \n",
    "row 1: 0+1=1  \n",
    "row 2: 1+2=3, 3+2=5 ---> Sum=8  \n",
    "row 3: 5+2=7, 7+2=9, 9+2=11 ---> Sum=27  \n",
    "row 4: 11+2=13, 13+2=15, 15+2=17, 17+2=19 ---> Sum=64  \n",
    "row 5: 19+2=21, 21+2=23, 23+2=25, 25+2=27, 27+2=29 ---> Sum=125  \n",
    "..."
   ]
  },
  {
   "cell_type": "markdown",
   "metadata": {},
   "source": [
    "Looking at the pattern above, the **sum of the nth row = n^3**"
   ]
  },
  {
   "cell_type": "code",
   "execution_count": 1,
   "metadata": {},
   "outputs": [],
   "source": [
    "def sum_odd_num(row):\n",
    "    return row**3"
   ]
  },
  {
   "cell_type": "code",
   "execution_count": 6,
   "metadata": {},
   "outputs": [
    {
     "data": {
      "text/plain": [
       "125"
      ]
     },
     "execution_count": 6,
     "metadata": {},
     "output_type": "execute_result"
    }
   ],
   "source": [
    "sum_odd_num(5)"
   ]
  },
  {
   "cell_type": "code",
   "execution_count": null,
   "metadata": {},
   "outputs": [],
   "source": []
  }
 ],
 "metadata": {
  "kernelspec": {
   "display_name": "Python 3",
   "language": "python",
   "name": "python3"
  },
  "language_info": {
   "codemirror_mode": {
    "name": "ipython",
    "version": 3
   },
   "file_extension": ".py",
   "mimetype": "text/x-python",
   "name": "python",
   "nbconvert_exporter": "python",
   "pygments_lexer": "ipython3",
   "version": "3.8.5"
  }
 },
 "nbformat": 4,
 "nbformat_minor": 4
}
